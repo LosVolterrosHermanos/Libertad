{
  "nbformat": 4,
  "nbformat_minor": 0,
  "metadata": {
    "colab": {
      "provenance": []
    },
    "kernelspec": {
      "name": "python3",
      "display_name": "Python 3"
    },
    "language_info": {
      "name": "python"
    }
  },
  "cells": [
    {
      "cell_type": "code",
      "source": [],
      "metadata": {
        "id": "10-CPfZGq-W8"
      },
      "execution_count": null,
      "outputs": []
    },
    {
      "cell_type": "code",
      "execution_count": null,
      "metadata": {
        "id": "-F_p5oxdFQdK"
      },
      "outputs": [],
      "source": [
        "def ode_resolvent(K, x, x_star, h, Dh, cov_grad_f, gamma, t_max, n_grid):\n",
        "  \"\"\"Generate the theoretical solution to gradient flow\n",
        "  Parameters\n",
        "  ----------\n",
        "  K : array (d x d) covariance matrix\n",
        "  x, x_star : array (d x o) initializations of x_0 and x_star\n",
        "  h : function (outputs scalar) Computes the risk given C\n",
        "  Dh : function (outputs 2 matrices) Computes for any time the derivatives $Dh_11$ and $Dh_{12}$ for $h(C(X)) = R(X)$\n",
        "  cov_grad_f : function (outputs 1 matrix) Computes for any time the derivative of $E_a[\\nabla f(x) \\nabla f(x)^T]\n",
        "  gamma : float Step size\n",
        "  t_max : float The number of epochs\n",
        "  n_grid : int The number of grid points\n",
        "  \"\"\"\n",
        "  t_grid = np.linspace(0.0, t_max, n_grid)\n",
        "  risks = np.zeros_like(t_grid)\n",
        "\n",
        "  num_time_loops = n_grid\n",
        "  Dt = t_max/n_grid\n",
        "\n",
        "  Keigs, Kvecs = np.linalg.eigh(K)\n",
        "  halfS_x = x.transpose()@Kvecs\n",
        "  halfS_x_star = x_star.transpose()@Kvecs\n",
        "\n",
        "  #S_12 is d x o x t\n",
        "  S_11 = np.einsum('ki,ji->ijk', halfS_x, halfS_x)\n",
        "  S_12 = np.einsum('ki,ji->ijk', halfS_x, halfS_x_star)\n",
        "  S_22 = np.einsum('ki,ji->ijk', halfS_x_star, halfS_x_star)\n",
        "  for i in range(n_grid):\n",
        "    C_11 = np.tensordot(S_11, Keigs, axes=(0,0))\n",
        "    C_12 = np.tensordot(S_12, Keigs, axes=(0,0))\n",
        "    C_22 = np.tensordot(S_22, Keigs, axes=(0,0))\n",
        "  #DH_11 is o x o and DH_21 is t x 0\n",
        "    DH_11, DH_21 = Dh(C_11, C_12, C_22)\n",
        "\n",
        "    S_11_gr = -2.0*gamma*np.einsum('i,ijk->ijk', Keigs,(\n",
        "                                       np.tensordot(S_11,DH_11, axes=(2,0))\n",
        "                                       +np.tensordot(S_12,DH_21, axes=(2,0))\n",
        "                                       +np.tensordot(S_11,DH_11, axes=(1,1))\n",
        "                                       +np.tensordot(S_12,DH_21, axes=(2,0))\n",
        "                                       ))\n",
        "    S_12_gr = -2.0*gamma*np.einsum('i,ijk->ijk', Keigs,(\n",
        "                                       np.tensordot(S_12,DH_11, axes=(1,0))\n",
        "                                       +np.einsum('ijk,jl->ilk', S_22, DH_21)\n",
        "                                       ))\n",
        "    S_11_noise = (gamma**2/d)*np.tensordot(Keigs,cov_grad_f(C_11,C_12,C_22),axes=0)\n",
        "    S_11 += Dt*(S_11_gr + S_11_noise)\n",
        "    S_12 += Dt*(S_12_gr)\n",
        "    risks[i] = h(C_11, C_12, C_22)\n",
        "  return t_grid, risks"
      ]
    },
    {
      "cell_type": "code",
      "source": [
        "#Number of time grid points in theory for the ODE\n",
        "n_grid = 1000\n",
        "\n",
        "# Covariance K used in theory\n",
        "K = np.diagflat(strlin_cov**2)\n",
        "\n",
        "#Functions used to compute h, Dh and cov_grad_f, Dh = [D_11, D_21]\n",
        "def h(C11,C12,C22):\n",
        "  part_1 = np.log( np.exp( np.sqrt(C11 * 2.0 ) * x_integral_points ) + 1.0 ) * weights * (1.0 / np.sqrt(np.pi) )\n",
        "  part_2 = np.exp( np.sqrt(C22 * 2.0) * x_integral_points ) / ( ( np.exp( np.sqrt(C22 * 2.0) * x_integral_points ) + 1.0 )**2 ) * weights * (1.0 / np.sqrt(np.pi))\n",
        "  return np.sum( part_1 ) - 1.0 * C12 * np.sum( part_2 )\n",
        "\n",
        "def Dh(C11,C12,C22):\n",
        "  L_11 = np.sqrt(C11)\n",
        "  L_21 = C12 / np.sqrt(C11)\n",
        "  L_22 = np.sqrt( C22 - ( C12**2 / C11) )\n",
        "\n",
        "  det_C = C11 * C22 - C12**2\n",
        "\n",
        "  x = np.sqrt(2.0) * ( L_11 * total_points[:,0] )\n",
        "  y = np.sqrt(2.0) * ( L_21 * total_points[:,0] + L_22 * total_points[:,1] )\n",
        "\n",
        "  temp = 0.5 * (1.0 / np.pi ) * x * (np.exp(y) / (1.0 + np.exp(y) ))\n",
        "\n",
        "  h11_start = ( y**2 / det_C ) - ( 2.0 * C22 / det_C ) * ( ( total_points[:,0] )**2 + ( total_points[:,1] )**2 )  + ( C22 / det_C )\n",
        "  h21_start = (-1.0 * x * y / det_C) + ( 2.0 * C12 / det_C ) * ( ( total_points[:,0] )**2 + ( total_points[:,1] )**2 ) - ( C12 / det_C )\n",
        "\n",
        "  h11_end = np.sqrt(2.0) * x_integral_points * 0.5 / (np.sqrt(C11)) * ( np.exp( np.sqrt(C11 * 2.0) * x_integral_points ) / ( 1.0 + np.exp( np.sqrt(C11 * 2.0) * x_integral_points ) ) ) * weights * (1.0 / np.sqrt(np.pi))\n",
        "\n",
        "  Dh11 = np.sum( temp * mult_weights * h11_start ) + np.sum( h11_end )\n",
        "  Dh21 = np.sum( temp * mult_weights * h21_start )\n",
        "\n",
        "  return(Dh11 *np.eye(log_o), Dh21 * np.eye(log_o))\n",
        "\n",
        "def cov_grad_f(C11,C12,C22):\n",
        "  L_11 = np.sqrt(C11)\n",
        "  L_21 = C12 / np.sqrt(C11)\n",
        "  L_22 = np.sqrt( C22 - ( C12**2 / C11) )\n",
        "\n",
        "  det_C = C11 * C22 - C12**2\n",
        "\n",
        "  x = np.sqrt(2.0) * ( L_11 * total_points[:,0] )\n",
        "  y = np.sqrt(2.0) * ( L_21 * total_points[:,0] + L_22 * total_points[:,1] )\n",
        "\n",
        "  temp = -1.0 * ( np.exp( y ) / (1.0 + np.exp(y) ) ) + ( np.exp(x) / (1.0 + np.exp(x)) )\n",
        "\n",
        "  return np.sum( temp**2 * (1.0 / np.pi) * mult_weights ) * np.eye(log_o)\n",
        "\n",
        "times, risks = ode_resolvent(K, np.reshape(ist,(d,log_o)), np.reshape(strlin_xstar,(d,log_o)),\n",
        "              h, Dh, cov_grad_f, gamma, t_max, n_grid)"
      ],
      "metadata": {
        "id": "-qXhVlqsFiWl"
      },
      "execution_count": null,
      "outputs": []
    }
  ]
}